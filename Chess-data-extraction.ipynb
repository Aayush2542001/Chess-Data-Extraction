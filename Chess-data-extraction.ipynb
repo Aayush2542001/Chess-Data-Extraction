{
 "cells": [
  {
   "cell_type": "code",
   "execution_count": 1,
   "id": "c23bc5b1",
   "metadata": {
    "execution": {
     "iopub.execute_input": "2022-10-21T10:15:32.028211Z",
     "iopub.status.busy": "2022-10-21T10:15:32.027384Z",
     "iopub.status.idle": "2022-10-21T10:15:32.037252Z",
     "shell.execute_reply": "2022-10-21T10:15:32.036311Z"
    },
    "papermill": {
     "duration": 0.017538,
     "end_time": "2022-10-21T10:15:32.039536",
     "exception": false,
     "start_time": "2022-10-21T10:15:32.021998",
     "status": "completed"
    },
    "tags": []
   },
   "outputs": [],
   "source": [
    "import pandas as pd\n",
    "import sys\n",
    "import csv\n",
    "import gc"
   ]
  },
  {
   "cell_type": "code",
   "execution_count": 2,
   "id": "2bc09a71",
   "metadata": {
    "execution": {
     "iopub.execute_input": "2022-10-21T10:15:32.046877Z",
     "iopub.status.busy": "2022-10-21T10:15:32.046583Z",
     "iopub.status.idle": "2022-10-21T10:15:52.084200Z",
     "shell.execute_reply": "2022-10-21T10:15:52.083263Z"
    },
    "papermill": {
     "duration": 20.043772,
     "end_time": "2022-10-21T10:15:52.086547",
     "exception": false,
     "start_time": "2022-10-21T10:15:32.042775",
     "status": "completed"
    },
    "tags": []
   },
   "outputs": [],
   "source": [
    "dataset = pd.read_csv('/kaggle/input/chess-evaluations/chessData.csv')"
   ]
  },
  {
   "cell_type": "code",
   "execution_count": 3,
   "id": "a50cb517",
   "metadata": {
    "execution": {
     "iopub.execute_input": "2022-10-21T10:15:52.094097Z",
     "iopub.status.busy": "2022-10-21T10:15:52.093036Z",
     "iopub.status.idle": "2022-10-21T10:15:53.467097Z",
     "shell.execute_reply": "2022-10-21T10:15:53.465949Z"
    },
    "papermill": {
     "duration": 1.379868,
     "end_time": "2022-10-21T10:15:53.469388",
     "exception": false,
     "start_time": "2022-10-21T10:15:52.089520",
     "status": "completed"
    },
    "tags": []
   },
   "outputs": [],
   "source": [
    "dataset = dataset[dataset.FEN != 'rnbq1rk1/ppp1ppbp/6p1/3n4/3P4/N4N2/PPP1BPPP/R1BQ1RK1 b - - 5 7']"
   ]
  },
  {
   "cell_type": "code",
   "execution_count": 4,
   "id": "74d181d4",
   "metadata": {
    "execution": {
     "iopub.execute_input": "2022-10-21T10:15:53.476946Z",
     "iopub.status.busy": "2022-10-21T10:15:53.476007Z",
     "iopub.status.idle": "2022-10-21T10:15:53.485970Z",
     "shell.execute_reply": "2022-10-21T10:15:53.485169Z"
    },
    "papermill": {
     "duration": 0.015537,
     "end_time": "2022-10-21T10:15:53.487903",
     "exception": false,
     "start_time": "2022-10-21T10:15:53.472366",
     "status": "completed"
    },
    "tags": []
   },
   "outputs": [],
   "source": [
    "OneHotEncode = {\n",
    "    'P':[1, 0, 0, 0, 0, 0, 0, 0, 0, 0, 0, 0, 0],\n",
    "    'p':[0, 1, 0, 0, 0, 0, 0, 0, 0, 0, 0, 0, 0],\n",
    "    'R':[0, 0, 1, 0, 0, 0, 0, 0, 0, 0, 0, 0, 0],\n",
    "    'r':[0, 0, 0, 1, 0, 0, 0, 0, 0, 0, 0, 0, 0],\n",
    "    'N':[0, 0, 0, 0, 1, 0, 0, 0, 0, 0, 0, 0, 0],\n",
    "    'n':[0, 0, 0, 0, 0, 1, 0, 0, 0, 0, 0, 0, 0],\n",
    "    'B':[0, 0, 0, 0, 0, 0, 1, 0, 0, 0, 0, 0, 0],\n",
    "    'b':[0, 0, 0, 0, 0, 0, 0, 1, 0, 0, 0, 0, 0],\n",
    "    'Q':[0, 0, 0, 0, 0, 0, 0, 0, 1, 0, 0, 0, 0],\n",
    "    'q':[0, 0, 0, 0, 0, 0, 0, 0, 0, 1, 0, 0, 0],\n",
    "    'K':[0, 0, 0, 0, 0, 0, 0, 0, 0, 0, 1, 0, 0],\n",
    "    'k':[0, 0, 0, 0, 0, 0, 0, 0, 0, 0, 0, 1, 0],\n",
    "'empty':[0, 0, 0, 0, 0, 0, 0, 0, 0, 0, 0, 0, 1],\n",
    "}"
   ]
  },
  {
   "cell_type": "code",
   "execution_count": 5,
   "id": "4c1f54e1",
   "metadata": {
    "execution": {
     "iopub.execute_input": "2022-10-21T10:15:53.494442Z",
     "iopub.status.busy": "2022-10-21T10:15:53.494196Z",
     "iopub.status.idle": "2022-10-21T10:15:53.502401Z",
     "shell.execute_reply": "2022-10-21T10:15:53.501563Z"
    },
    "papermill": {
     "duration": 0.013433,
     "end_time": "2022-10-21T10:15:53.504195",
     "exception": false,
     "start_time": "2022-10-21T10:15:53.490762",
     "status": "completed"
    },
    "tags": []
   },
   "outputs": [],
   "source": [
    "def FEN_to_Row(string, y):\n",
    "    splitted = string.split(' ')\n",
    "    vector = []\n",
    "    \n",
    "    # 64 square information\n",
    "    for row in splitted[0].split('/'):\n",
    "        for piece in row:\n",
    "            if piece.isnumeric():\n",
    "                vector.extend(OneHotEncode['empty'] * int(piece))\n",
    "            else:\n",
    "                vector.extend(OneHotEncode[piece])\n",
    "     \n",
    "    # white to move or black to move information\n",
    "    if splitted[1] == 'w':\n",
    "        vector.append(1)\n",
    "    else:\n",
    "        vector.append(0)\n",
    "    \n",
    "    # castling information\n",
    "    if 'Q' in splitted[2]:\n",
    "        vector.append(1)\n",
    "    else:\n",
    "        vector.append(0)\n",
    "    \n",
    "    if 'K' in splitted[2]:\n",
    "        vector.append(1)\n",
    "    else:\n",
    "        vector.append(0)\n",
    "        \n",
    "    if 'q' in splitted[2]:\n",
    "        vector.append(1)\n",
    "    else:\n",
    "        vector.append(0)\n",
    "        \n",
    "    if 'k' in splitted[2]:\n",
    "        vector.append(1)\n",
    "    else:\n",
    "        vector.append(0)\n",
    "        \n",
    "    # y label information\n",
    "    if y[0] == '#':\n",
    "        if y[1] == '-':\n",
    "            vector.append(-10000)\n",
    "        else:\n",
    "            vector.append(10000)\n",
    "    else:\n",
    "        vector.append(int(y))\n",
    "                \n",
    "    return vector"
   ]
  },
  {
   "cell_type": "code",
   "execution_count": 6,
   "id": "717065dd",
   "metadata": {
    "execution": {
     "iopub.execute_input": "2022-10-21T10:15:53.510367Z",
     "iopub.status.busy": "2022-10-21T10:15:53.510079Z",
     "iopub.status.idle": "2022-10-21T10:28:26.470524Z",
     "shell.execute_reply": "2022-10-21T10:28:26.469251Z"
    },
    "papermill": {
     "duration": 752.967632,
     "end_time": "2022-10-21T10:28:26.474440",
     "exception": false,
     "start_time": "2022-10-21T10:15:53.506808",
     "status": "completed"
    },
    "tags": []
   },
   "outputs": [
    {
     "name": "stdout",
     "output_type": "stream",
     "text": [
      "1th loop completed!\n",
      "2th loop completed!\n",
      "3th loop completed!\n",
      "4th loop completed!\n"
     ]
    }
   ],
   "source": [
    "left, right = 0, 1000000\n",
    "for i in range(4):\n",
    "    X = []\n",
    "    for index, row in dataset[left:right].iterrows():\n",
    "        x = FEN_to_Row(row['FEN'], row['Evaluation'])\n",
    "        X.append(x)\n",
    "\n",
    "    with open(\"chessData_Preprocessed.csv\", \"a\") as fp:\n",
    "        wr = csv.writer(fp)\n",
    "        wr.writerows(X)\n",
    "        \n",
    "    try:\n",
    "        del X\n",
    "        del fp\n",
    "        del x\n",
    "        del wr\n",
    "    except:\n",
    "        pass\n",
    "    gc.collect()\n",
    "    \n",
    "    print(f\"{i+1}th loop completed!\")\n",
    "    \n",
    "    left, right = right , right+(right-left)"
   ]
  },
  {
   "cell_type": "code",
   "execution_count": 7,
   "id": "71aee005",
   "metadata": {
    "execution": {
     "iopub.execute_input": "2022-10-21T10:28:26.482743Z",
     "iopub.status.busy": "2022-10-21T10:28:26.482397Z",
     "iopub.status.idle": "2022-10-21T10:41:03.944358Z",
     "shell.execute_reply": "2022-10-21T10:41:03.942830Z"
    },
    "papermill": {
     "duration": 757.472619,
     "end_time": "2022-10-21T10:41:03.950451",
     "exception": false,
     "start_time": "2022-10-21T10:28:26.477832",
     "status": "completed"
    },
    "tags": []
   },
   "outputs": [
    {
     "name": "stdout",
     "output_type": "stream",
     "text": [
      "5th loop completed!\n",
      "6th loop completed!\n",
      "7th loop completed!\n",
      "8th loop completed!\n"
     ]
    }
   ],
   "source": [
    "left, right = 4000000, 5000000\n",
    "for i in range(4,8):\n",
    "    X = []\n",
    "    for index, row in dataset[left:right].iterrows():\n",
    "        x = FEN_to_Row(row['FEN'], row['Evaluation'])\n",
    "        X.append(x)\n",
    "\n",
    "    with open(\"chessData_Preprocessed.csv\", \"a\") as fp:\n",
    "        wr = csv.writer(fp)\n",
    "        wr.writerows(X)\n",
    "        \n",
    "    try:\n",
    "        del X\n",
    "        del fp\n",
    "        del x\n",
    "        del wr\n",
    "    except:\n",
    "        pass\n",
    "    gc.collect()\n",
    "    \n",
    "    print(f\"{i+1}th loop completed!\")\n",
    "    \n",
    "    left, right = right , right+(right-left)"
   ]
  },
  {
   "cell_type": "code",
   "execution_count": 8,
   "id": "7a5a43b5",
   "metadata": {
    "execution": {
     "iopub.execute_input": "2022-10-21T10:41:03.959069Z",
     "iopub.status.busy": "2022-10-21T10:41:03.958720Z",
     "iopub.status.idle": "2022-10-21T10:53:32.543405Z",
     "shell.execute_reply": "2022-10-21T10:53:32.541976Z"
    },
    "papermill": {
     "duration": 748.594617,
     "end_time": "2022-10-21T10:53:32.548616",
     "exception": false,
     "start_time": "2022-10-21T10:41:03.953999",
     "status": "completed"
    },
    "tags": []
   },
   "outputs": [
    {
     "name": "stdout",
     "output_type": "stream",
     "text": [
      "9th loop completed!\n",
      "10th loop completed!\n",
      "11th loop completed!\n",
      "12th loop completed!\n"
     ]
    }
   ],
   "source": [
    "left, right = 8000000, 9000000\n",
    "for i in range(8,12):\n",
    "    X = []\n",
    "    for index, row in dataset[left:right].iterrows():\n",
    "        x = FEN_to_Row(row['FEN'], row['Evaluation'])\n",
    "        X.append(x)\n",
    "\n",
    "    with open(\"chessData_Preprocessed.csv\", \"a\") as fp:\n",
    "        wr = csv.writer(fp)\n",
    "        wr.writerows(X)\n",
    "    \n",
    "    try:\n",
    "        del X\n",
    "        del fp\n",
    "        del x\n",
    "        del wr\n",
    "    except:\n",
    "        pass\n",
    "    gc.collect()\n",
    "    \n",
    "    print(f\"{i+1}th loop completed!\")\n",
    "    \n",
    "    left, right = right , right+(right-left)"
   ]
  },
  {
   "cell_type": "code",
   "execution_count": 9,
   "id": "4c9b6c01",
   "metadata": {
    "execution": {
     "iopub.execute_input": "2022-10-21T10:53:32.558779Z",
     "iopub.status.busy": "2022-10-21T10:53:32.557662Z",
     "iopub.status.idle": "2022-10-21T10:53:32.658859Z",
     "shell.execute_reply": "2022-10-21T10:53:32.658173Z"
    },
    "papermill": {
     "duration": 0.111814,
     "end_time": "2022-10-21T10:53:32.664641",
     "exception": false,
     "start_time": "2022-10-21T10:53:32.552827",
     "status": "completed"
    },
    "tags": []
   },
   "outputs": [
    {
     "data": {
      "text/plain": [
       "21"
      ]
     },
     "execution_count": 9,
     "metadata": {},
     "output_type": "execute_result"
    }
   ],
   "source": [
    "del dataset\n",
    "gc.collect()"
   ]
  },
  {
   "cell_type": "code",
   "execution_count": 10,
   "id": "9845a686",
   "metadata": {
    "execution": {
     "iopub.execute_input": "2022-10-21T10:53:32.677329Z",
     "iopub.status.busy": "2022-10-21T10:53:32.676557Z",
     "iopub.status.idle": "2022-10-21T10:53:32.689732Z",
     "shell.execute_reply": "2022-10-21T10:53:32.688963Z"
    },
    "papermill": {
     "duration": 0.021348,
     "end_time": "2022-10-21T10:53:32.691658",
     "exception": false,
     "start_time": "2022-10-21T10:53:32.670310",
     "status": "completed"
    },
    "tags": []
   },
   "outputs": [
    {
     "data": {
      "text/plain": [
       "[('_i5', 1171),\n",
       " ('_i4', 704),\n",
       " ('OneHotEncode', 656),\n",
       " ('_i7', 559),\n",
       " ('_iii', 559),\n",
       " ('_i8', 556),\n",
       " ('_ii', 556),\n",
       " ('_i6', 551),\n",
       " ('row', 432),\n",
       " ('Out', 248),\n",
       " ('_oh', 248),\n",
       " ('In', 200),\n",
       " ('_ih', 200),\n",
       " ('_i3', 147),\n",
       " ('FEN_to_Row', 144),\n",
       " ('_i10', 144),\n",
       " ('_i2', 119),\n",
       " ('__doc__', 113),\n",
       " ('_i1', 100),\n",
       " ('__builtin__', 88),\n",
       " ('__builtins__', 88),\n",
       " ('csv', 88),\n",
       " ('gc', 88),\n",
       " ('pd', 88),\n",
       " ('sys', 88),\n",
       " ('_dh', 80),\n",
       " ('_i', 73),\n",
       " ('_i9', 73),\n",
       " ('get_ipython', 72),\n",
       " ('exit', 64),\n",
       " ('quit', 64),\n",
       " ('__name__', 57),\n",
       " ('__', 49),\n",
       " ('___', 49),\n",
       " ('_', 28),\n",
       " ('_9', 28),\n",
       " ('i', 28),\n",
       " ('index', 28),\n",
       " ('left', 28),\n",
       " ('right', 28),\n",
       " ('__loader__', 16),\n",
       " ('__package__', 16),\n",
       " ('__spec__', 16)]"
      ]
     },
     "execution_count": 10,
     "metadata": {},
     "output_type": "execute_result"
    }
   ],
   "source": [
    "sorted([(a, sys.getsizeof(globals().get(a))) for a in dir()], key=lambda a: a[1], reverse=True)"
   ]
  }
 ],
 "metadata": {
  "kernelspec": {
   "display_name": "Python 3",
   "language": "python",
   "name": "python3"
  },
  "language_info": {
   "codemirror_mode": {
    "name": "ipython",
    "version": 3
   },
   "file_extension": ".py",
   "mimetype": "text/x-python",
   "name": "python",
   "nbconvert_exporter": "python",
   "pygments_lexer": "ipython3",
   "version": "3.7.12"
  },
  "papermill": {
   "default_parameters": {},
   "duration": 2289.260458,
   "end_time": "2022-10-21T10:53:34.428960",
   "environment_variables": {},
   "exception": null,
   "input_path": "__notebook__.ipynb",
   "output_path": "__notebook__.ipynb",
   "parameters": {},
   "start_time": "2022-10-21T10:15:25.168502",
   "version": "2.3.4"
  }
 },
 "nbformat": 4,
 "nbformat_minor": 5
}
